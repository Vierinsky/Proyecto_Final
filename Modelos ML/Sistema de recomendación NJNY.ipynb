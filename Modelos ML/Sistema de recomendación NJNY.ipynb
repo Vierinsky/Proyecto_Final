{
 "cells": [
  {
   "cell_type": "code",
   "execution_count": 1,
   "metadata": {},
   "outputs": [],
   "source": [
    "import pandas as pd\n",
    "from sklearn.neighbors import NearestNeighbors\n",
    "import numpy as np\n",
    "from fastapi import FastAPI, Query\n",
    "from pydantic import BaseModel\n",
    "from typing import List\n",
    "import joblib"
   ]
  },
  {
   "cell_type": "code",
   "execution_count": 2,
   "metadata": {},
   "outputs": [
    {
     "name": "stdout",
     "output_type": "stream",
     "text": [
      "Columnas disponibles en el DataFrame:\n",
      "Index(['gmap_id', 'name', 'street_address', 'city', 'state', 'zip_code',\n",
      "       'latitude', 'longitude', 'avg_rating', 'num_of_reviews', 'price',\n",
      "       'Monday', 'Tuesday', 'Wednesday', 'Thursday', 'Friday', 'Saturday',\n",
      "       'Sunday', 'Delivery', 'Dine-in', 'Takeout', 'Good for kids', 'Casual',\n",
      "       'Dinner', 'Lunch'],\n",
      "      dtype='object')\n",
      "\n",
      "Primeras filas del DataFrame:\n",
      "                                     gmap_id                  name  \\\n",
      "index                                                                \n",
      "0       0x4ccab4b3af9c7c85:0x9defa19fe4e295c          Alpine Pizza   \n",
      "26     0x89de5f9627d4e973:0x5b0cbc68d57ffefb       Stewart's Shops   \n",
      "34     0x89def3a6bb7c4091:0xde094955651ec4bf         Al's Pizzeria   \n",
      "53     0x89c3acab12c10d5d:0x73285fc4bd781796        Gulistan Pizza   \n",
      "59     0x89c259f744b20deb:0xb536eb5ee402f92f  FREEHOLD In The Park   \n",
      "\n",
      "          street_address          city state zip_code   latitude  longitude  \\\n",
      "index                                                                         \n",
      "0            1104 U.S. 9  Schroon Lake    NY    12870  43.837433 -73.761254   \n",
      "26            4192 NY-30     Amsterdam    NY    12010  43.017033 -74.194120   \n",
      "34         201 N Main St  Gloversville    NY    12078  43.056137 -74.342115   \n",
      "53      783 S Orange Ave        Newark    NJ    07106  40.745207 -74.220116   \n",
      "59     20 Union Square W      New York    NY    10003  40.736450 -73.989926   \n",
      "\n",
      "       avg_rating  num_of_reviews  ...     Friday   Saturday     Sunday  \\\n",
      "index                              ...                                    \n",
      "0             4.3              45  ...      4–9PM      4–9PM      4–9PM   \n",
      "26            2.2              15  ...   4AM–12AM   4AM–12AM   4AM–12AM   \n",
      "34            4.2              28  ...     12–9PM     12–9PM     12–9PM   \n",
      "53            3.3               8  ...       None       None       None   \n",
      "59            4.2              78  ...  12PM–12AM  12PM–12AM  12PM–12AM   \n",
      "\n",
      "      Delivery Dine-in Takeout Good for kids Casual  Dinner  Lunch  \n",
      "index                                                               \n",
      "0            1       1       1             1      1       1      0  \n",
      "26           1       0       0             0      0       0      0  \n",
      "34           0       0       1             1      1       0      0  \n",
      "53           1       0       0             1      0       0      0  \n",
      "59           1       1       1             1      1       0      0  \n",
      "\n",
      "[5 rows x 25 columns]\n"
     ]
    }
   ],
   "source": [
    "# Ruta al archivo Parquet\n",
    "ruta_archivo_parquet_sitios = r'C:\\Users\\guard\\OneDrive\\Desktop\\Henry Data Science\\Proyecto-FInal\\Datos\\gm_sitios_NJNY_202502190828.parquet'\n",
    "\n",
    "# Leer el archivo Parquet en un DataFrame\n",
    "df = pd.read_parquet(ruta_archivo_parquet_sitios)\n",
    "\n",
    "# Mostrar las columnas disponibles\n",
    "print(\"Columnas disponibles en el DataFrame:\")\n",
    "print(df.columns)\n",
    "\n",
    "# Mostrar las primeras filas del DataFrame para tener una idea del contenido\n",
    "print(\"\\nPrimeras filas del DataFrame:\")\n",
    "print(df.head())"
   ]
  },
  {
   "cell_type": "code",
   "execution_count": 3,
   "metadata": {},
   "outputs": [],
   "source": [
    "# Convertir horarios a formato datetime y crear columnas binarias para horarios abiertos\n",
    "dias_semana = ['Monday', 'Tuesday', 'Wednesday', 'Thursday', 'Friday', 'Saturday', 'Sunday']\n",
    "horarios = {}\n",
    "for dia in dias_semana:\n",
    "    df[dia] = df[dia].fillna('Closed')\n",
    "    horarios[dia] = df[dia].apply(lambda x: [t.strip() for t in x.split('-')] if x != 'Closed' and '-' in x else ['Closed', 'Closed'])\n",
    "\n",
    "# Crear un DataFrame binario para los horarios\n",
    "for dia in dias_semana:\n",
    "    df[dia + '_open'] = horarios[dia].apply(lambda x: 1 if x[0] != 'Closed' else 0)\n",
    "    df[dia + '_close'] = horarios[dia].apply(lambda x: 1 if x[1] != 'Closed' else 0)\n",
    "\n",
    "# Seleccionar solo las columnas relevantes\n",
    "columnas_binarias = ['Delivery', 'Dine-in', 'Takeout', 'Good for kids', 'Casual', 'Dinner', 'Lunch']\n",
    "df_binarias = df[['name', 'avg_rating', 'num_of_reviews', 'latitude', 'longitude', 'zip_code'] + columnas_binarias + [dia + '_open' for dia in dias_semana] + [dia + '_close' for dia in dias_semana]]\n",
    "\n",
    "# Guardar el DataFrame preprocesado\n",
    "df_binarias.to_csv('data_preprocesada.csv', index=False)\n"
   ]
  },
  {
   "cell_type": "code",
   "execution_count": 4,
   "metadata": {},
   "outputs": [],
   "source": [
    "# Cargar datos preprocesados\n",
    "df_binarias = pd.read_csv('data_preprocesada.csv')\n",
    "\n",
    "# Entrenar modelo Nearest Neighbors\n",
    "X = df_binarias.drop(columns=['name', 'avg_rating', 'num_of_reviews', 'latitude', 'longitude', 'zip_code'])\n",
    "modelo_knn = NearestNeighbors(n_neighbors=3, algorithm='auto').fit(X)\n",
    "\n",
    "# Función para recomendar locales\n",
    "def recomendar_locales(horario, condiciones_binarias, lat, lon):\n",
    "    # Crear vector de consulta\n",
    "    consulta = pd.Series([horario] + condiciones_binarias)\n",
    "    consulta = consulta.values.reshape(1, -1)\n",
    "    \n",
    "    # Encontrar vecinos más cercanos\n",
    "    distancias, indices = modelo_knn.kneighbors(consulta)\n",
    "    recomendaciones = df_binarias.iloc[indices[0]]\n",
    "    \n",
    "    # Ordenar por num_of_reviews y avg_rating\n",
    "    recomendaciones = recomendaciones.sort_values(by=['num_of_reviews', 'avg_rating'], ascending=[False, False])\n",
    "    return recomendaciones[['name', 'avg_rating', 'num_of_reviews', 'latitude', 'longitude', 'zip_code']]\n"
   ]
  },
  {
   "cell_type": "code",
   "execution_count": 5,
   "metadata": {},
   "outputs": [
    {
     "data": {
      "text/plain": [
       "['modelo_knn.pkl']"
      ]
     },
     "execution_count": 5,
     "metadata": {},
     "output_type": "execute_result"
    }
   ],
   "source": [
    "# Guardar el modelo\n",
    "joblib.dump(modelo_knn, 'modelo_knn.pkl')"
   ]
  },
  {
   "cell_type": "code",
   "execution_count": 6,
   "metadata": {},
   "outputs": [],
   "source": [
    "# Inicializar FastAPI\n",
    "app = FastAPI()\n",
    "\n",
    "# Cargar modelo y datos\n",
    "modelo_knn = joblib.load('modelo_knn.pkl')\n",
    "df_binarias = pd.read_csv('data_preprocesada.csv')\n",
    "\n",
    "class Consulta(BaseModel):\n",
    "    horario: str\n",
    "    condiciones_binarias: List[int]\n",
    "    lat: float\n",
    "    lon: float\n",
    "\n",
    "@app.get(\"/recomendar_locales\")\n",
    "def recomendar_locales(horario: str = Query(...), condiciones_binarias: List[int] = Query(...), lat: float = Query(...), lon: float = Query(...)):\n",
    "    # Crear vector de consulta\n",
    "    consulta = pd.Series([horario] + condiciones_binarias)\n",
    "    consulta = consulta.values.reshape(1, -1)\n",
    "    \n",
    "    # Encontrar vecinos más cercanos\n",
    "    distancias, indices = modelo_knn.kneighbors(consulta)\n",
    "    recomendaciones = df_binarias.iloc[indices[0]]\n",
    "    \n",
    "    # Ordenar por num_of_reviews y avg_rating\n",
    "    recomendaciones = recomendaciones.sort_values(by=['num_of_reviews', 'avg_rating'], ascending=[False, False])\n",
    "    return recomendaciones[['name', 'avg_rating', 'num_of_reviews', 'latitude', 'longitude','zip_code']].to_dict(orient='records')\n"
   ]
  }
 ],
 "metadata": {
  "kernelspec": {
   "display_name": ".venv",
   "language": "python",
   "name": "python3"
  },
  "language_info": {
   "codemirror_mode": {
    "name": "ipython",
    "version": 3
   },
   "file_extension": ".py",
   "mimetype": "text/x-python",
   "name": "python",
   "nbconvert_exporter": "python",
   "pygments_lexer": "ipython3",
   "version": "3.10.11"
  }
 },
 "nbformat": 4,
 "nbformat_minor": 2
}
